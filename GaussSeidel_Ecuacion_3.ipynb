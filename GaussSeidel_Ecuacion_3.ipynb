{
  "nbformat": 4,
  "nbformat_minor": 0,
  "metadata": {
    "colab": {
      "name": "Untitled2.ipynb",
      "provenance": []
    },
    "kernelspec": {
      "name": "python3",
      "display_name": "Python 3"
    }
  },
  "cells": [
    {
      "cell_type": "code",
      "metadata": {
        "colab": {
          "base_uri": "https://localhost:8080/",
          "height": 817
        },
        "id": "Sz-aMPHup2GA",
        "outputId": "1227f658-9a22-4b08-f895-6ee6f7f6704d"
      },
      "source": [
        "##Ramos Hernández Antonio GaussSeidel_Ecuacion_3\r\n",
        "\r\n",
        "import matplotlib.pyplot as plt\r\n",
        "\r\n",
        "\r\n",
        "def X1(x2):\r\n",
        "    return  (1/2)*(1-((1/4)*x2))\r\n",
        "def X2(x1):\r\n",
        "    return  (1/5)*(3-(2*x1))\r\n",
        "def X3(x1):\r\n",
        "    return  (1/4)*(3-x1)\r\n",
        "\r\n",
        "\r\n",
        "def g_next(x10,x20,x30,n):\r\n",
        "    \r\n",
        "    \r\n",
        "    x1 = [x10]\r\n",
        "    x2 = [x20]\r\n",
        "    x3 = [x30]\r\n",
        "    \r\n",
        "    i=0\r\n",
        "    \r\n",
        "    while (i<n):\r\n",
        "        \r\n",
        "            x1.append(X1(x2[i]))\r\n",
        "            x2.append(X2(x1[i+1]))\r\n",
        "            x3.append(X3(x1[i+1]))\r\n",
        "            \r\n",
        "            \r\n",
        "            print('Iteración'+ str(i+1))\r\n",
        "            print('X1' + str(i+1)+'=' + '' + str(x1[i+1]))\r\n",
        "            print('X2' + str(i+1)+'=' + '' + str(x2[i+1]))\r\n",
        "            print('X3' + str(i+1)+'=' + '' + str(x3[i+1])+'\\n')\r\n",
        "           \r\n",
        "            i+=1\r\n",
        "            \r\n",
        "    \r\n",
        "    print('x1: '+ str(x1) )\r\n",
        "    print('x2: '+ str(x2) )\r\n",
        "    print('x3: '+ str(x3) )\r\n",
        "    \r\n",
        "    \r\n",
        "    \r\n",
        "    plt.plot(x1,label=\"x1\",color='k')\r\n",
        "    plt.plot(x2,label=\"x2\",color='c')\r\n",
        "    plt.plot(x3,label=\"x3\",color='r')\r\n",
        "    \r\n",
        "    \r\n",
        "    plt.title(\"Gauss Seidel Ecuación 3\", fontsize = 24)\r\n",
        "    \r\n",
        "    plt.legend()\r\n",
        "    plt.show()\r\n",
        "\r\n",
        "    \r\n",
        "\r\n",
        "x1 = float(input('Introduce el valor de x1: \\n'))\r\n",
        "x2 = float(input('Introduce el valor de x2: \\n'))\r\n",
        "x3 = float(input('Introduce el valor de x3: \\n'))\r\n",
        "\r\n",
        "iteracion = float(input('Introduce la cantidad de iteraciones: \\n'))\r\n",
        "g_next(x1,x2,x3,iteracion)"
      ],
      "execution_count": 7,
      "outputs": [
        {
          "output_type": "stream",
          "text": [
            "Introduce el valor de x1: \n",
            "0\n",
            "Introduce el valor de x2: \n",
            "0\n",
            "Introduce el valor de x3: \n",
            "0\n",
            "Introduce la cantidad de iteraciones: \n",
            "4\n",
            "Iteración1\n",
            "X11=0.5\n",
            "X21=0.4\n",
            "X31=0.625\n",
            "\n",
            "Iteración2\n",
            "X12=0.45\n",
            "X22=0.42000000000000004\n",
            "X32=0.6375\n",
            "\n",
            "Iteración3\n",
            "X13=0.4475\n",
            "X23=0.42100000000000004\n",
            "X33=0.638125\n",
            "\n",
            "Iteración4\n",
            "X14=0.44737499999999997\n",
            "X24=0.42105\n",
            "X34=0.63815625\n",
            "\n",
            "x1: [0.0, 0.5, 0.45, 0.4475, 0.44737499999999997]\n",
            "x2: [0.0, 0.4, 0.42000000000000004, 0.42100000000000004, 0.42105]\n",
            "x3: [0.0, 0.625, 0.6375, 0.638125, 0.63815625]\n"
          ],
          "name": "stdout"
        },
        {
          "output_type": "display_data",
          "data": {
            "image/png": "[encoded data removed]",
            "text/plain": [
              "<Figure size 432x288 with 1 Axes>"
            ]
          },
          "metadata": {
            "tags": [],
            "needs_background": "light"
          }
        }
      ]
    }
  ]
}