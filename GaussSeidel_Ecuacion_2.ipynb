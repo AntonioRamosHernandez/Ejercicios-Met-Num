{
  "nbformat": 4,
  "nbformat_minor": 0,
  "metadata": {
    "colab": {
      "name": "Untitled2.ipynb",
      "provenance": []
    },
    "kernelspec": {
      "name": "python3",
      "display_name": "Python 3"
    }
  },
  "cells": [
    {
      "cell_type": "code",
      "metadata": {
        "colab": {
          "base_uri": "https://localhost:8080/",
          "height": 698
        },
        "id": "Sz-aMPHup2GA",
        "outputId": "84a8c718-79c0-4603-f17f-9e62e7e7995a"
      },
      "source": [
        "##Ramos Hernández Antonio GaussSeidel_Ecuacion_2\r\n",
        "\r\n",
        "import matplotlib.pyplot as plt\r\n",
        "\r\n",
        "\r\n",
        "def X1(x2):\r\n",
        "    return  (1/5)*(12-(2*x2))\r\n",
        "def X2(x1):\r\n",
        "    return  (1/5)*(4+((1/2)*x1))\r\n",
        "\r\n",
        "\r\n",
        "\r\n",
        "def g_next(x10,x20,n):\r\n",
        "    \r\n",
        "    \r\n",
        "    x1 = [x10]\r\n",
        "    x2 = [x20]\r\n",
        "    \r\n",
        "    \r\n",
        "    i=0\r\n",
        "     \r\n",
        "    while (i<4):\r\n",
        "        \r\n",
        "            x1.append(X1(x2[i]))\r\n",
        "            x2.append(X2(x1[i+1]))\r\n",
        "            \r\n",
        "            \r\n",
        "            print('Iteración'+ str(i+1))\r\n",
        "            print('X1' + str(i+1)+'=' + '' + str(x1[i+1]))\r\n",
        "            print('X2' + str(i+1)+'=' + '' + str(x2[i+1])+'\\n')\r\n",
        "           \r\n",
        "            \r\n",
        "            i+=1\r\n",
        "            \r\n",
        "    \r\n",
        "    print('x1: '+ str(x1) )\r\n",
        "    print('x2: '+ str(x2) )\r\n",
        "    \r\n",
        "    \r\n",
        "    \r\n",
        "    plt.plot(x1,label=\"x1\",color='k')\r\n",
        "    plt.plot(x2,label=\"x2\",color='c')\r\n",
        "   \r\n",
        "    \r\n",
        "    \r\n",
        "    plt.title(\"Gauss-Seidel Ecuación 2\", fontsize = 24)\r\n",
        "    \r\n",
        "    plt.legend()\r\n",
        "    plt.show()\r\n",
        "\r\n",
        "    \r\n",
        "\r\n",
        "x1 = float(input('Introduce el valor de x1: \\n'))\r\n",
        "x2 = float(input('Introduce el valor de x2: \\n'))\r\n",
        "iteracion = float(input('Introduce la cantidad de iteraciones: \\n'))\r\n",
        "g_next(x1,x2,iteracion)"
      ],
      "execution_count": 6,
      "outputs": [
        {
          "output_type": "stream",
          "text": [
            "Introduce el valor de x1: \n",
            "0\n",
            "Introduce el valor de x2: \n",
            "0\n",
            "Introduce la cantidad de iteraciones: \n",
            "4\n",
            "Iteración1\n",
            "X11=2.4000000000000004\n",
            "X21=1.04\n",
            "\n",
            "Iteración2\n",
            "X12=1.984\n",
            "X22=0.9984000000000001\n",
            "\n",
            "Iteración3\n",
            "X13=2.00064\n",
            "X23=1.000064\n",
            "\n",
            "Iteración4\n",
            "X14=1.9999744000000002\n",
            "X24=0.99999744\n",
            "\n",
            "x1: [0.0, 2.4000000000000004, 1.984, 2.00064, 1.9999744000000002]\n",
            "x2: [0.0, 1.04, 0.9984000000000001, 1.000064, 0.99999744]\n"
          ],
          "name": "stdout"
        },
        {
          "output_type": "display_data",
          "data": {
            "image/png": "[encoded data removed]",
            "text/plain": [
              "<Figure size 432x288 with 1 Axes>"
            ]
          },
          "metadata": {
            "tags": [],
            "needs_background": "light"
          }
        }
      ]
    }
  ]
}