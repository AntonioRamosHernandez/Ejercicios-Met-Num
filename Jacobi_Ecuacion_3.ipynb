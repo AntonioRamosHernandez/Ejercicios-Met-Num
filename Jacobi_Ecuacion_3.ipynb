{
  "nbformat": 4,
  "nbformat_minor": 0,
  "metadata": {
    "colab": {
      "name": "Untitled2.ipynb",
      "provenance": []
    },
    "kernelspec": {
      "name": "python3",
      "display_name": "Python 3"
    }
  },
  "cells": [
    {
      "cell_type": "code",
      "metadata": {
        "colab": {
          "base_uri": "https://localhost:8080/",
          "height": 819
        },
        "id": "Sz-aMPHup2GA",
        "outputId": "0ab18733-4fe9-4103-bfdc-28a04836447f"
      },
      "source": [
        "##Ramos Hernández Antonio Jacobi_Ecuacion_3\r\n",
        "\r\n",
        "import matplotlib.pyplot as plt\r\n",
        "\r\n",
        "\r\n",
        "def X1(x2):\r\n",
        "    return  (1/2)-((1/8)*x2)\r\n",
        "def X2(x1):\r\n",
        "    return  (3/5)-((2/5)*x1)\r\n",
        "def X3(x1):\r\n",
        "    return  (3/4)-((1/4)*x1)\r\n",
        "\r\n",
        "\r\n",
        "def g_next(x10,x20,x30,n):\r\n",
        "    \r\n",
        "    \r\n",
        "    x1 = [x10]\r\n",
        "    x2 = [x20]\r\n",
        "    x3 = [x30]\r\n",
        "    \r\n",
        "    i=0\r\n",
        "    \r\n",
        "    while (i<n):\r\n",
        "        \r\n",
        "            x1.append(X1(x2[i]))\r\n",
        "            x2.append(X2(x1[i]))\r\n",
        "            x3.append(X3(x1[i]))\r\n",
        "            \r\n",
        "            \r\n",
        "            print('Iteración'+ str(i+1))\r\n",
        "            print('X1' + str(i+1)+'=' + '' + str(x1[i+1]))\r\n",
        "            print('X2' + str(i+1)+'=' + '' + str(x2[i+1]))\r\n",
        "            print('X3' + str(i+1)+'=' + '' + str(x3[i+1])+'\\n')\r\n",
        "           \r\n",
        "            i+=1\r\n",
        "            \r\n",
        "    \r\n",
        "    print('x1: '+ str(x1) )\r\n",
        "    print('x2: '+ str(x2) )\r\n",
        "    print('x3: '+ str(x3) )\r\n",
        "    \r\n",
        "    \r\n",
        "    \r\n",
        "    plt.plot(x1,label=\"x1\",color='k')\r\n",
        "    plt.plot(x2,label=\"x2\",color='c')\r\n",
        "    plt.plot(x3,label=\"x3\",color='r')\r\n",
        "    \r\n",
        "    \r\n",
        "    plt.title(\"Jacobi Ecuación 3\", fontsize = 24)\r\n",
        "    \r\n",
        "    plt.legend()\r\n",
        "    plt.show()\r\n",
        "\r\n",
        "    \r\n",
        "\r\n",
        "x1 = float(input('Introduce el valor de x1: \\n'))\r\n",
        "x2 = float(input('Introduce el valor de x2: \\n'))\r\n",
        "x3 = float(input('Introduce el valor de x3: \\n'))\r\n",
        "\r\n",
        "iteracion = float(input('Introduce la cantidad de iteraciones: \\n'))\r\n",
        "g_next(x1,x2,x3,iteracion)"
      ],
      "execution_count": 3,
      "outputs": [
        {
          "output_type": "stream",
          "text": [
            "Introduce el valor de x1: \n",
            "0\n",
            "Introduce el valor de x2: \n",
            "0\n",
            "Introduce el valor de x3: \n",
            "0\n",
            "Introduce la cantidad de iteraciones: \n",
            "4\n",
            "Iteración1\n",
            "X11=0.5\n",
            "X21=0.6\n",
            "X31=0.75\n",
            "\n",
            "Iteración2\n",
            "X12=0.425\n",
            "X22=0.39999999999999997\n",
            "X32=0.625\n",
            "\n",
            "Iteración3\n",
            "X13=0.45\n",
            "X23=0.42999999999999994\n",
            "X33=0.64375\n",
            "\n",
            "Iteración4\n",
            "X14=0.44625000000000004\n",
            "X24=0.41999999999999993\n",
            "X34=0.6375\n",
            "\n",
            "x1: [0.0, 0.5, 0.425, 0.45, 0.44625000000000004]\n",
            "x2: [0.0, 0.6, 0.39999999999999997, 0.42999999999999994, 0.41999999999999993]\n",
            "x3: [0.0, 0.75, 0.625, 0.64375, 0.6375]\n"
          ],
          "name": "stdout"
        },
        {
          "output_type": "display_data",
          "data": {
            "image/png": "[encoded data removed]",
            "text/plain": [
              "<Figure size 432x288 with 1 Axes>"
            ]
          },
          "metadata": {
            "tags": [],
            "needs_background": "light"
          }
        }
      ]
    }
  ]
}