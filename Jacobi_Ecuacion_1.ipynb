{
  "nbformat": 4,
  "nbformat_minor": 0,
  "metadata": {
    "colab": {
      "name": "Untitled2.ipynb",
      "provenance": []
    },
    "kernelspec": {
      "name": "python3",
      "display_name": "Python 3"
    }
  },
  "cells": [
    {
      "cell_type": "code",
      "metadata": {
        "colab": {
          "base_uri": "https://localhost:8080/",
          "height": 819
        },
        "id": "Sz-aMPHup2GA",
        "outputId": "ce9b722b-d364-4d08-9fcf-b1d04049041a"
      },
      "source": [
        "##Ramos Hernández Antonio Jacobi_Ecuacion_1\r\n",
        "\r\n",
        "import matplotlib.pyplot as plt\r\n",
        "\r\n",
        "\r\n",
        "def X(y,z):\r\n",
        "    return  -(2/9) - ((2/9)*y) + ((1/9)*z)\r\n",
        "def Y(x,z):\r\n",
        "    return  0.375 - (0.875*x) - (0.625*z)\r\n",
        "def Z(x,y):\r\n",
        "    return  -0.6 + (0.3*x) + (0.4*y)\r\n",
        "\r\n",
        "\r\n",
        "def g_next(x0,y0,z0,n):\r\n",
        "    \r\n",
        "    \r\n",
        "    x = [x0]\r\n",
        "    y = [y0]\r\n",
        "    z = [z0]\r\n",
        "    \r\n",
        "    i=0\r\n",
        "     \r\n",
        "    while (i<n):\r\n",
        "        \r\n",
        "            x.append(X(y[i],z[i]))\r\n",
        "            y.append(Y(x[i],z[i]))\r\n",
        "            z.append(Z(x[i],y[i]))\r\n",
        "            \r\n",
        "            print('Iteración'+ str(i+1))\r\n",
        "            print('X' + str(i+1)+'=' + '' + str(x[i+1]))\r\n",
        "            print('Y' + str(i+1)+'=' + '' + str(y[i+1]))\r\n",
        "            print('Z' + str(i+1)+'=' + '' + str(z[i+1])+'\\n')\r\n",
        "            \r\n",
        "            i+=1\r\n",
        "            \r\n",
        "    \r\n",
        "    print('x: '+ str(x) )\r\n",
        "    print('y: '+ str(y) )\r\n",
        "    print('z: '+ str(z) )\r\n",
        "    \r\n",
        "    \r\n",
        "    plt.plot(x,label=\"x\",color='b')\r\n",
        "    plt.plot(y,label=\"y\",color='k')\r\n",
        "    plt.plot(z,label=\"z\",color='y')\r\n",
        "    \r\n",
        "    \r\n",
        "    plt.title(\"Jacobi Ecuación 1\", fontsize = 24)\r\n",
        "    \r\n",
        "    plt.legend()\r\n",
        "    plt.show()\r\n",
        "\r\n",
        "    \r\n",
        "x = float(input('Introduce el valor de x: \\n'))\r\n",
        "y = float(input('Introduce el valor de y: \\n'))\r\n",
        "z = float(input('Introduce el valor de z: \\n'))\r\n",
        "iteracion = float(input('Introduce la cantidad de iteraciones: \\n'))\r\n",
        "g_next(x,y,z,iteracion)"
      ],
      "execution_count": 1,
      "outputs": [
        {
          "output_type": "stream",
          "text": [
            "Introduce el valor de x: \n",
            "0\n",
            "Introduce el valor de y: \n",
            "0\n",
            "Introduce el valor de z: \n",
            "0\n",
            "Introduce la cantidad de iteraciones: \n",
            "4\n",
            "Iteración1\n",
            "X1=-0.2222222222222222\n",
            "Y1=0.375\n",
            "Z1=-0.6\n",
            "\n",
            "Iteración2\n",
            "X2=-0.3722222222222222\n",
            "Y2=0.9444444444444444\n",
            "Z2=-0.5166666666666666\n",
            "\n",
            "Iteración3\n",
            "X3=-0.48950617283950615\n",
            "Y3=1.023611111111111\n",
            "Z3=-0.3338888888888889\n",
            "\n",
            "Iteración4\n",
            "X4=-0.48679012345679007\n",
            "Y4=1.0119984567901235\n",
            "Z4=-0.33740740740740743\n",
            "\n",
            "x: [0.0, -0.2222222222222222, -0.3722222222222222, -0.48950617283950615, -0.48679012345679007]\n",
            "y: [0.0, 0.375, 0.9444444444444444, 1.023611111111111, 1.0119984567901235]\n",
            "z: [0.0, -0.6, -0.5166666666666666, -0.3338888888888889, -0.33740740740740743]\n"
          ],
          "name": "stdout"
        },
        {
          "output_type": "display_data",
          "data": {
            "image/png": "[encoded data removed]",
            "text/plain": [
              "<Figure size 432x288 with 1 Axes>"
            ]
          },
          "metadata": {
            "tags": [],
            "needs_background": "light"
          }
        }
      ]
    }
  ]
}