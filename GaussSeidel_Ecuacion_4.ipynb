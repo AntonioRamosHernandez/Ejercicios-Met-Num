{
  "nbformat": 4,
  "nbformat_minor": 0,
  "metadata": {
    "colab": {
      "name": "Untitled2.ipynb",
      "provenance": []
    },
    "kernelspec": {
      "name": "python3",
      "display_name": "Python 3"
    }
  },
  "cells": [
    {
      "cell_type": "code",
      "metadata": {
        "colab": {
          "base_uri": "https://localhost:8080/",
          "height": 817
        },
        "id": "Sz-aMPHup2GA",
        "outputId": "c0985ec3-4f26-4956-b7dd-4f5502107654"
      },
      "source": [
        "##Ramos Hernández Antonio GaussSeidel_Ecuacion_4\r\n",
        "\r\n",
        "import matplotlib.pyplot as plt\r\n",
        "\r\n",
        "\r\n",
        "def X1(x2,x3):\r\n",
        "    return  (1/3)*(11-x2-((1/2)*x3))\r\n",
        "def X2(x1,x3):\r\n",
        "    return  (1/2)*(5+((1/4)*x1)-((1/2)*x3))\r\n",
        "def X3(x1,x2):\r\n",
        "    return  (1/6)*(23-x1+x2)\r\n",
        "\r\n",
        "\r\n",
        "def g_next(x10,x20,x30,n):\r\n",
        "    \r\n",
        "    \r\n",
        "    x1 = [x10]\r\n",
        "    x2 = [x20]\r\n",
        "    x3 = [x30]\r\n",
        "    \r\n",
        "    i=0\r\n",
        "    \r\n",
        "    while (i<n):\r\n",
        "        \r\n",
        "            x1.append(X1(x2[i],x3[i]))\r\n",
        "            x2.append(X2(x1[i+1],x3[i]))\r\n",
        "            x3.append(X3(x1[i+1],x2[i+1]))\r\n",
        "            \r\n",
        "            \r\n",
        "            print('Iteración'+ str(i+1))\r\n",
        "            print('X1' + str(i+1)+'=' + '' + str(x1[i+1]))\r\n",
        "            print('X2' + str(i+1)+'=' + '' + str(x2[i+1]))\r\n",
        "            print('X3' + str(i+1)+'=' + '' + str(x3[i+1])+'\\n')\r\n",
        "           \r\n",
        "            i+=1\r\n",
        "            \r\n",
        "    \r\n",
        "    print('x1: '+ str(x1) )\r\n",
        "    print('x2: '+ str(x2) )\r\n",
        "    print('x3: '+ str(x3) )\r\n",
        "    \r\n",
        "    \r\n",
        "    \r\n",
        "    plt.plot(x1,label=\"x1\",color='b')\r\n",
        "    plt.plot(x2,label=\"x2\",color='c')\r\n",
        "    plt.plot(x3,label=\"x3\",color='k')\r\n",
        "    \r\n",
        "    \r\n",
        "    plt.title(\"Gauss-Seidel Ecuación 4\", fontsize = 24)\r\n",
        "    \r\n",
        "    plt.legend()\r\n",
        "    plt.show()\r\n",
        "\r\n",
        "    \r\n",
        "\r\n",
        "x1 = float(input('Introduce el valor de x1: \\n'))\r\n",
        "x2 = float(input('Introduce el valor de x2: \\n'))\r\n",
        "x3 = float(input('Introduce el valor de x3: \\n'))\r\n",
        "\r\n",
        "iteracion = float(input('Introduce la cantidad de iteraciones: \\n'))\r\n",
        "g_next(x1,x2,x3,iteracion)"
      ],
      "execution_count": 8,
      "outputs": [
        {
          "output_type": "stream",
          "text": [
            "Introduce el valor de x1: \n",
            "0\n",
            "Introduce el valor de x2: \n",
            "0\n",
            "Introduce el valor de x3: \n",
            "0\n",
            "Introduce la cantidad de iteraciones: \n",
            "4\n",
            "Iteración1\n",
            "X11=3.6666666666666665\n",
            "X21=2.9583333333333335\n",
            "X31=3.7152777777777772\n",
            "\n",
            "Iteración2\n",
            "X12=2.0613425925925926\n",
            "X22=1.8288483796296298\n",
            "X32=3.7945842978395063\n",
            "\n",
            "Iteración3\n",
            "X13=2.4246198238168724\n",
            "X23=1.8544314035172325\n",
            "X33=3.73830192995006\n",
            "\n",
            "Iteración4\n",
            "X14=2.4254725438359124\n",
            "X24=1.868608585491974\n",
            "X34=3.7405226736093433\n",
            "\n",
            "x1: [0.0, 3.6666666666666665, 2.0613425925925926, 2.4246198238168724, 2.4254725438359124]\n",
            "x2: [0.0, 2.9583333333333335, 1.8288483796296298, 1.8544314035172325, 1.868608585491974]\n",
            "x3: [0.0, 3.7152777777777772, 3.7945842978395063, 3.73830192995006, 3.7405226736093433]\n"
          ],
          "name": "stdout"
        },
        {
          "output_type": "display_data",
          "data": {
            "image/png": "[encoded data removed]",
            "text/plain": [
              "<Figure size 432x288 with 1 Axes>"
            ]
          },
          "metadata": {
            "tags": [],
            "needs_background": "light"
          }
        }
      ]
    }
  ]
}